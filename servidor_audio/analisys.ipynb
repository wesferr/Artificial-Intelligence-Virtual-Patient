{
 "cells": [
  {
   "cell_type": "code",
   "execution_count": 1,
   "metadata": {},
   "outputs": [],
   "source": [
    "import pandas as pd\n",
    "import json\n",
    "import matplotlib.pyplot as plt\n",
    "from scipy.stats import zscore\n",
    "import numpy as np"
   ]
  },
  {
   "cell_type": "code",
   "execution_count": 2,
   "metadata": {},
   "outputs": [],
   "source": [
    "data = json.loads(open(\"time_diffs.json\").read())\n",
    "llm_times = pd.Series(data[\"llm_times\"])\n",
    "tts_times = pd.Series(data[\"stt_times\"])\n",
    "stt_times = pd.Series(data[\"tts_times\"])\n",
    "audio_times = pd.Series(data[\"audio_times\"])\n",
    "send_times = pd.Series(data[\"send_times\"])\n",
    "receive_times = pd.Series(data[\"receive_times\"])"
   ]
  },
  {
   "cell_type": "code",
   "execution_count": 3,
   "metadata": {},
   "outputs": [
    {
     "data": {
      "text/plain": [
       "(42, 42, 42, 24, 282, 25)"
      ]
     },
     "execution_count": 3,
     "metadata": {},
     "output_type": "execute_result"
    }
   ],
   "source": [
    "tts_times.count(), audio_times.count(), send_times.count(), receive_times.count(), llm_times.count(), stt_times.count()"
   ]
  },
  {
   "cell_type": "code",
   "execution_count": 4,
   "metadata": {},
   "outputs": [],
   "source": [
    "data = {\n",
    "    \"LLM Times\": llm_times,\n",
    "    \"TTS Times\": tts_times,\n",
    "    \"STT Times\": stt_times,\n",
    "    # \"Audio Times\": audio_times,\n",
    "    \"Send Times\": send_times,\n",
    "    \"Receive Times\": receive_times,\n",
    "}\n",
    "\n",
    "# Cria um DataFrame com os dados\n",
    "df = pd.DataFrame(data)"
   ]
  },
  {
   "cell_type": "code",
   "execution_count": 7,
   "metadata": {},
   "outputs": [
    {
     "data": {
      "text/html": [
       "<div>\n",
       "<style scoped>\n",
       "    .dataframe tbody tr th:only-of-type {\n",
       "        vertical-align: middle;\n",
       "    }\n",
       "\n",
       "    .dataframe tbody tr th {\n",
       "        vertical-align: top;\n",
       "    }\n",
       "\n",
       "    .dataframe thead th {\n",
       "        text-align: right;\n",
       "    }\n",
       "</style>\n",
       "<table border=\"1\" class=\"dataframe\">\n",
       "  <thead>\n",
       "    <tr style=\"text-align: right;\">\n",
       "      <th></th>\n",
       "      <th>LLM Times</th>\n",
       "      <th>TTS Times</th>\n",
       "      <th>STT Times</th>\n",
       "      <th>Send Times</th>\n",
       "      <th>Receive Times</th>\n",
       "    </tr>\n",
       "  </thead>\n",
       "  <tbody>\n",
       "    <tr>\n",
       "      <th>count</th>\n",
       "      <td>282.000000</td>\n",
       "      <td>42.000000</td>\n",
       "      <td>25.000000</td>\n",
       "      <td>42.000000</td>\n",
       "      <td>24.000000</td>\n",
       "    </tr>\n",
       "    <tr>\n",
       "      <th>mean</th>\n",
       "      <td>64.888248</td>\n",
       "      <td>816.362950</td>\n",
       "      <td>565.737448</td>\n",
       "      <td>851.593464</td>\n",
       "      <td>50.087837</td>\n",
       "    </tr>\n",
       "    <tr>\n",
       "      <th>std</th>\n",
       "      <td>226.101840</td>\n",
       "      <td>351.532329</td>\n",
       "      <td>214.969195</td>\n",
       "      <td>1218.555984</td>\n",
       "      <td>56.925785</td>\n",
       "    </tr>\n",
       "    <tr>\n",
       "      <th>min</th>\n",
       "      <td>0.000000</td>\n",
       "      <td>418.408000</td>\n",
       "      <td>265.858300</td>\n",
       "      <td>-31.785600</td>\n",
       "      <td>21.345400</td>\n",
       "    </tr>\n",
       "    <tr>\n",
       "      <th>25%</th>\n",
       "      <td>0.000000</td>\n",
       "      <td>610.351775</td>\n",
       "      <td>493.881400</td>\n",
       "      <td>59.107600</td>\n",
       "      <td>30.935050</td>\n",
       "    </tr>\n",
       "    <tr>\n",
       "      <th>50%</th>\n",
       "      <td>0.000000</td>\n",
       "      <td>744.212050</td>\n",
       "      <td>538.617000</td>\n",
       "      <td>653.413350</td>\n",
       "      <td>36.475000</td>\n",
       "    </tr>\n",
       "    <tr>\n",
       "      <th>75%</th>\n",
       "      <td>86.889075</td>\n",
       "      <td>920.818650</td>\n",
       "      <td>574.013000</td>\n",
       "      <td>854.142200</td>\n",
       "      <td>43.174075</td>\n",
       "    </tr>\n",
       "    <tr>\n",
       "      <th>max</th>\n",
       "      <td>3563.660300</td>\n",
       "      <td>1927.976400</td>\n",
       "      <td>1462.884300</td>\n",
       "      <td>6901.353600</td>\n",
       "      <td>308.986300</td>\n",
       "    </tr>\n",
       "  </tbody>\n",
       "</table>\n",
       "</div>"
      ],
      "text/plain": [
       "         LLM Times    TTS Times    STT Times   Send Times  Receive Times\n",
       "count   282.000000    42.000000    25.000000    42.000000      24.000000\n",
       "mean     64.888248   816.362950   565.737448   851.593464      50.087837\n",
       "std     226.101840   351.532329   214.969195  1218.555984      56.925785\n",
       "min       0.000000   418.408000   265.858300   -31.785600      21.345400\n",
       "25%       0.000000   610.351775   493.881400    59.107600      30.935050\n",
       "50%       0.000000   744.212050   538.617000   653.413350      36.475000\n",
       "75%      86.889075   920.818650   574.013000   854.142200      43.174075\n",
       "max    3563.660300  1927.976400  1462.884300  6901.353600     308.986300"
      ]
     },
     "execution_count": 7,
     "metadata": {},
     "output_type": "execute_result"
    }
   ],
   "source": [
    "df.describe()"
   ]
  },
  {
   "cell_type": "code",
   "execution_count": 5,
   "metadata": {},
   "outputs": [
    {
     "data": {
      "text/html": [
       "<div>\n",
       "<style scoped>\n",
       "    .dataframe tbody tr th:only-of-type {\n",
       "        vertical-align: middle;\n",
       "    }\n",
       "\n",
       "    .dataframe tbody tr th {\n",
       "        vertical-align: top;\n",
       "    }\n",
       "\n",
       "    .dataframe thead th {\n",
       "        text-align: right;\n",
       "    }\n",
       "</style>\n",
       "<table border=\"1\" class=\"dataframe\">\n",
       "  <thead>\n",
       "    <tr style=\"text-align: right;\">\n",
       "      <th></th>\n",
       "      <th>LLM Times</th>\n",
       "      <th>TTS Times</th>\n",
       "      <th>STT Times</th>\n",
       "      <th>Send Times</th>\n",
       "      <th>Receive Times</th>\n",
       "    </tr>\n",
       "  </thead>\n",
       "  <tbody>\n",
       "    <tr>\n",
       "      <th>count</th>\n",
       "      <td>20.000000</td>\n",
       "      <td>20.000000</td>\n",
       "      <td>20.000000</td>\n",
       "      <td>20.000000</td>\n",
       "      <td>20.000000</td>\n",
       "    </tr>\n",
       "    <tr>\n",
       "      <th>mean</th>\n",
       "      <td>44.335310</td>\n",
       "      <td>774.190720</td>\n",
       "      <td>525.787905</td>\n",
       "      <td>908.355720</td>\n",
       "      <td>36.695430</td>\n",
       "    </tr>\n",
       "    <tr>\n",
       "      <th>std</th>\n",
       "      <td>66.562929</td>\n",
       "      <td>279.868346</td>\n",
       "      <td>113.658937</td>\n",
       "      <td>759.926340</td>\n",
       "      <td>11.959855</td>\n",
       "    </tr>\n",
       "    <tr>\n",
       "      <th>min</th>\n",
       "      <td>0.000000</td>\n",
       "      <td>418.408000</td>\n",
       "      <td>265.858300</td>\n",
       "      <td>-28.356700</td>\n",
       "      <td>21.345400</td>\n",
       "    </tr>\n",
       "    <tr>\n",
       "      <th>25%</th>\n",
       "      <td>0.000000</td>\n",
       "      <td>611.057125</td>\n",
       "      <td>492.308400</td>\n",
       "      <td>638.977700</td>\n",
       "      <td>29.999100</td>\n",
       "    </tr>\n",
       "    <tr>\n",
       "      <th>50%</th>\n",
       "      <td>0.829350</td>\n",
       "      <td>741.705750</td>\n",
       "      <td>544.064650</td>\n",
       "      <td>789.487100</td>\n",
       "      <td>35.387850</td>\n",
       "    </tr>\n",
       "    <tr>\n",
       "      <th>75%</th>\n",
       "      <td>85.579175</td>\n",
       "      <td>911.463350</td>\n",
       "      <td>570.273275</td>\n",
       "      <td>895.862725</td>\n",
       "      <td>39.278150</td>\n",
       "    </tr>\n",
       "    <tr>\n",
       "      <th>max</th>\n",
       "      <td>260.038100</td>\n",
       "      <td>1637.962100</td>\n",
       "      <td>797.057200</td>\n",
       "      <td>3842.445900</td>\n",
       "      <td>78.753300</td>\n",
       "    </tr>\n",
       "  </tbody>\n",
       "</table>\n",
       "</div>"
      ],
      "text/plain": [
       "        LLM Times    TTS Times   STT Times   Send Times  Receive Times\n",
       "count   20.000000    20.000000   20.000000    20.000000      20.000000\n",
       "mean    44.335310   774.190720  525.787905   908.355720      36.695430\n",
       "std     66.562929   279.868346  113.658937   759.926340      11.959855\n",
       "min      0.000000   418.408000  265.858300   -28.356700      21.345400\n",
       "25%      0.000000   611.057125  492.308400   638.977700      29.999100\n",
       "50%      0.829350   741.705750  544.064650   789.487100      35.387850\n",
       "75%     85.579175   911.463350  570.273275   895.862725      39.278150\n",
       "max    260.038100  1637.962100  797.057200  3842.445900      78.753300"
      ]
     },
     "execution_count": 5,
     "metadata": {},
     "output_type": "execute_result"
    }
   ],
   "source": [
    "z_scores = (df - df.mean(skipna=True)) / df.std(skipna=True)\n",
    "\n",
    "# Filtra os valores cujo Z-Score absoluto seja menor ou igual a 3\n",
    "filtered_df = df[(np.abs(z_scores) <= 3).all(axis=1)]\n",
    "\n",
    "# Exibe o DataFrame filtrado\n",
    "filtered_df.describe()"
   ]
  },
  {
   "cell_type": "code",
   "execution_count": 6,
   "metadata": {},
   "outputs": [
    {
     "data": {
      "image/png": "[encoded data removed]",
      "text/plain": [
       "<Figure size 1000x600 with 1 Axes>"
      ]
     },
     "metadata": {},
     "output_type": "display_data"
    }
   ],
   "source": [
    "# Gera um único boxplot indexado\n",
    "plt.figure(figsize=(10, 6))\n",
    "filtered_df.boxplot()\n",
    "plt.title(\"Boxplot of All Times\")\n",
    "plt.ylabel(\"Time (ms)\")\n",
    "plt.xticks(rotation=45)\n",
    "plt.show()"
   ]
  },
  {
   "cell_type": "code",
   "execution_count": null,
   "metadata": {},
   "outputs": [],
   "source": []
  },
  {
   "cell_type": "code",
   "execution_count": null,
   "metadata": {},
   "outputs": [],
   "source": []
  }
 ],
 "metadata": {
  "kernelspec": {
   "display_name": "Python 3",
   "language": "python",
   "name": "python3"
  },
  "language_info": {
   "codemirror_mode": {
    "name": "ipython",
    "version": 3
   },
   "file_extension": ".py",
   "mimetype": "text/x-python",
   "name": "python",
   "nbconvert_exporter": "python",
   "pygments_lexer": "ipython3",
   "version": "3.11.9"
  }
 },
 "nbformat": 4,
 "nbformat_minor": 2
}
