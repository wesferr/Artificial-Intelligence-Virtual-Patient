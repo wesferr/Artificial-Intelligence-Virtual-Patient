{
 "cells": [
  {
   "cell_type": "code",
   "execution_count": 3,
   "metadata": {},
   "outputs": [],
   "source": [
    "import pandas as pd\n",
    "import json\n",
    "import matplotlib.pyplot as plt\n",
    "from scipy.stats import zscore\n",
    "import numpy as np"
   ]
  },
  {
   "cell_type": "code",
   "execution_count": 5,
   "metadata": {},
   "outputs": [],
   "source": [
    "data = json.loads(open(\"time_diffs2.json\").read())\n",
    "llm_times = pd.Series(data[\"llm_times\"])\n",
    "tts_times = pd.Series(data[\"stt_times\"])\n",
    "stt_times = pd.Series(data[\"tts_times\"])\n",
    "sent_audio_times = pd.Series(data[\"sent_audio_times\"])\n",
    "recieved_audio_times = pd.Series(data[\"recieved_audio_times\"])\n",
    "send_times = pd.Series(data[\"send_times\"])\n",
    "receive_times = pd.Series(data[\"receive_times\"])"
   ]
  },
  {
   "cell_type": "code",
   "execution_count": 6,
   "metadata": {},
   "outputs": [
    {
     "data": {
      "text/plain": [
       "(36, 49, 36, 48, 36, 400, 49)"
      ]
     },
     "execution_count": 6,
     "metadata": {},
     "output_type": "execute_result"
    }
   ],
   "source": [
    "tts_times.count(), sent_audio_times.count(), recieved_audio_times.count(), send_times.count(), receive_times.count(), llm_times.count(), stt_times.count()"
   ]
  },
  {
   "cell_type": "code",
   "execution_count": 7,
   "metadata": {},
   "outputs": [],
   "source": [
    "data = {\n",
    "    \"LLM Times\": llm_times,\n",
    "    \"TTS Times\": tts_times,\n",
    "    \"STT Times\": stt_times,\n",
    "    # \"Audio Times\": audio_times,\n",
    "    \"Send Times\": send_times,\n",
    "    \"Receive Times\": receive_times,\n",
    "}\n",
    "\n",
    "# Cria um DataFrame com os dados\n",
    "df = pd.DataFrame(data)"
   ]
  },
  {
   "cell_type": "code",
   "execution_count": 8,
   "metadata": {},
   "outputs": [
    {
     "data": {
      "text/html": [
       "<div>\n",
       "<style scoped>\n",
       "    .dataframe tbody tr th:only-of-type {\n",
       "        vertical-align: middle;\n",
       "    }\n",
       "\n",
       "    .dataframe tbody tr th {\n",
       "        vertical-align: top;\n",
       "    }\n",
       "\n",
       "    .dataframe thead th {\n",
       "        text-align: right;\n",
       "    }\n",
       "</style>\n",
       "<table border=\"1\" class=\"dataframe\">\n",
       "  <thead>\n",
       "    <tr style=\"text-align: right;\">\n",
       "      <th></th>\n",
       "      <th>LLM Times</th>\n",
       "      <th>TTS Times</th>\n",
       "      <th>STT Times</th>\n",
       "      <th>Send Times</th>\n",
       "      <th>Receive Times</th>\n",
       "    </tr>\n",
       "  </thead>\n",
       "  <tbody>\n",
       "    <tr>\n",
       "      <th>count</th>\n",
       "      <td>400.000000</td>\n",
       "      <td>36.000000</td>\n",
       "      <td>49.000000</td>\n",
       "      <td>48.000000</td>\n",
       "      <td>36.000000</td>\n",
       "    </tr>\n",
       "    <tr>\n",
       "      <th>mean</th>\n",
       "      <td>83.990848</td>\n",
       "      <td>591.524308</td>\n",
       "      <td>847.152880</td>\n",
       "      <td>2.801050</td>\n",
       "      <td>25.677092</td>\n",
       "    </tr>\n",
       "    <tr>\n",
       "      <th>std</th>\n",
       "      <td>136.287370</td>\n",
       "      <td>232.409339</td>\n",
       "      <td>354.950187</td>\n",
       "      <td>3.892335</td>\n",
       "      <td>47.489280</td>\n",
       "    </tr>\n",
       "    <tr>\n",
       "      <th>min</th>\n",
       "      <td>-1.000000</td>\n",
       "      <td>406.600900</td>\n",
       "      <td>360.595500</td>\n",
       "      <td>0.000000</td>\n",
       "      <td>0.000000</td>\n",
       "    </tr>\n",
       "    <tr>\n",
       "      <th>25%</th>\n",
       "      <td>0.000000</td>\n",
       "      <td>460.524875</td>\n",
       "      <td>634.944600</td>\n",
       "      <td>0.000000</td>\n",
       "      <td>9.091200</td>\n",
       "    </tr>\n",
       "    <tr>\n",
       "      <th>50%</th>\n",
       "      <td>0.000000</td>\n",
       "      <td>529.740900</td>\n",
       "      <td>781.211500</td>\n",
       "      <td>1.997850</td>\n",
       "      <td>15.992000</td>\n",
       "    </tr>\n",
       "    <tr>\n",
       "      <th>75%</th>\n",
       "      <td>124.048000</td>\n",
       "      <td>626.863800</td>\n",
       "      <td>896.816400</td>\n",
       "      <td>3.001925</td>\n",
       "      <td>30.750475</td>\n",
       "    </tr>\n",
       "    <tr>\n",
       "      <th>max</th>\n",
       "      <td>1510.028000</td>\n",
       "      <td>1590.922700</td>\n",
       "      <td>2238.810600</td>\n",
       "      <td>16.024000</td>\n",
       "      <td>286.677900</td>\n",
       "    </tr>\n",
       "  </tbody>\n",
       "</table>\n",
       "</div>"
      ],
      "text/plain": [
       "         LLM Times    TTS Times    STT Times  Send Times  Receive Times\n",
       "count   400.000000    36.000000    49.000000   48.000000      36.000000\n",
       "mean     83.990848   591.524308   847.152880    2.801050      25.677092\n",
       "std     136.287370   232.409339   354.950187    3.892335      47.489280\n",
       "min      -1.000000   406.600900   360.595500    0.000000       0.000000\n",
       "25%       0.000000   460.524875   634.944600    0.000000       9.091200\n",
       "50%       0.000000   529.740900   781.211500    1.997850      15.992000\n",
       "75%     124.048000   626.863800   896.816400    3.001925      30.750475\n",
       "max    1510.028000  1590.922700  2238.810600   16.024000     286.677900"
      ]
     },
     "execution_count": 8,
     "metadata": {},
     "output_type": "execute_result"
    }
   ],
   "source": [
    "df.describe()"
   ]
  },
  {
   "cell_type": "code",
   "execution_count": 9,
   "metadata": {},
   "outputs": [
    {
     "data": {
      "text/html": [
       "<div>\n",
       "<style scoped>\n",
       "    .dataframe tbody tr th:only-of-type {\n",
       "        vertical-align: middle;\n",
       "    }\n",
       "\n",
       "    .dataframe tbody tr th {\n",
       "        vertical-align: top;\n",
       "    }\n",
       "\n",
       "    .dataframe thead th {\n",
       "        text-align: right;\n",
       "    }\n",
       "</style>\n",
       "<table border=\"1\" class=\"dataframe\">\n",
       "  <thead>\n",
       "    <tr style=\"text-align: right;\">\n",
       "      <th></th>\n",
       "      <th>LLM Times</th>\n",
       "      <th>TTS Times</th>\n",
       "      <th>STT Times</th>\n",
       "      <th>Send Times</th>\n",
       "      <th>Receive Times</th>\n",
       "    </tr>\n",
       "  </thead>\n",
       "  <tbody>\n",
       "    <tr>\n",
       "      <th>count</th>\n",
       "      <td>33.000000</td>\n",
       "      <td>33.000000</td>\n",
       "      <td>33.000000</td>\n",
       "      <td>33.000000</td>\n",
       "      <td>33.000000</td>\n",
       "    </tr>\n",
       "    <tr>\n",
       "      <th>mean</th>\n",
       "      <td>85.023788</td>\n",
       "      <td>537.896497</td>\n",
       "      <td>847.442121</td>\n",
       "      <td>2.128233</td>\n",
       "      <td>17.401027</td>\n",
       "    </tr>\n",
       "    <tr>\n",
       "      <th>std</th>\n",
       "      <td>88.401653</td>\n",
       "      <td>99.461818</td>\n",
       "      <td>318.042912</td>\n",
       "      <td>2.868555</td>\n",
       "      <td>15.790583</td>\n",
       "    </tr>\n",
       "    <tr>\n",
       "      <th>min</th>\n",
       "      <td>-1.000000</td>\n",
       "      <td>406.600900</td>\n",
       "      <td>360.595500</td>\n",
       "      <td>0.000000</td>\n",
       "      <td>0.000000</td>\n",
       "    </tr>\n",
       "    <tr>\n",
       "      <th>25%</th>\n",
       "      <td>0.000000</td>\n",
       "      <td>460.212500</td>\n",
       "      <td>695.343500</td>\n",
       "      <td>0.000000</td>\n",
       "      <td>6.998100</td>\n",
       "    </tr>\n",
       "    <tr>\n",
       "      <th>50%</th>\n",
       "      <td>116.723600</td>\n",
       "      <td>521.310900</td>\n",
       "      <td>787.878100</td>\n",
       "      <td>1.895100</td>\n",
       "      <td>15.970300</td>\n",
       "    </tr>\n",
       "    <tr>\n",
       "      <th>75%</th>\n",
       "      <td>125.176800</td>\n",
       "      <td>594.732100</td>\n",
       "      <td>896.816400</td>\n",
       "      <td>2.998100</td>\n",
       "      <td>28.324600</td>\n",
       "    </tr>\n",
       "    <tr>\n",
       "      <th>max</th>\n",
       "      <td>342.265900</td>\n",
       "      <td>817.216100</td>\n",
       "      <td>1899.720700</td>\n",
       "      <td>14.041600</td>\n",
       "      <td>62.565300</td>\n",
       "    </tr>\n",
       "  </tbody>\n",
       "</table>\n",
       "</div>"
      ],
      "text/plain": [
       "        LLM Times   TTS Times    STT Times  Send Times  Receive Times\n",
       "count   33.000000   33.000000    33.000000   33.000000      33.000000\n",
       "mean    85.023788  537.896497   847.442121    2.128233      17.401027\n",
       "std     88.401653   99.461818   318.042912    2.868555      15.790583\n",
       "min     -1.000000  406.600900   360.595500    0.000000       0.000000\n",
       "25%      0.000000  460.212500   695.343500    0.000000       6.998100\n",
       "50%    116.723600  521.310900   787.878100    1.895100      15.970300\n",
       "75%    125.176800  594.732100   896.816400    2.998100      28.324600\n",
       "max    342.265900  817.216100  1899.720700   14.041600      62.565300"
      ]
     },
     "execution_count": 9,
     "metadata": {},
     "output_type": "execute_result"
    }
   ],
   "source": [
    "z_scores = (df - df.mean(skipna=True)) / df.std(skipna=True)\n",
    "\n",
    "# Filtra os valores cujo Z-Score absoluto seja menor ou igual a 3\n",
    "filtered_df = df[(np.abs(z_scores) <= 3).all(axis=1)]\n",
    "\n",
    "# Exibe o DataFrame filtrado\n",
    "filtered_df.describe()"
   ]
  },
  {
   "cell_type": "code",
   "execution_count": 10,
   "metadata": {},
   "outputs": [
    {
     "data": {
      "image/png": "[encoded data removed]",
      "text/plain": [
       "<Figure size 1000x600 with 1 Axes>"
      ]
     },
     "metadata": {},
     "output_type": "display_data"
    }
   ],
   "source": [
    "# Gera um único boxplot indexado\n",
    "plt.figure(figsize=(10, 6))\n",
    "filtered_df.boxplot()\n",
    "plt.title(\"Boxplot of All Times\")\n",
    "plt.ylabel(\"Time (ms)\")\n",
    "plt.xticks(rotation=45)\n",
    "plt.show()"
   ]
  },
  {
   "cell_type": "code",
   "execution_count": null,
   "metadata": {},
   "outputs": [],
   "source": []
  },
  {
   "cell_type": "code",
   "execution_count": null,
   "metadata": {},
   "outputs": [],
   "source": []
  }
 ],
 "metadata": {
  "kernelspec": {
   "display_name": "Python 3",
   "language": "python",
   "name": "python3"
  },
  "language_info": {
   "codemirror_mode": {
    "name": "ipython",
    "version": 3
   },
   "file_extension": ".py",
   "mimetype": "text/x-python",
   "name": "python",
   "nbconvert_exporter": "python",
   "pygments_lexer": "ipython3",
   "version": "3.11.9"
  }
 },
 "nbformat": 4,
 "nbformat_minor": 2
}
